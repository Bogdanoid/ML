{
 "cells": [
  {
   "cell_type": "code",
   "execution_count": 30,
   "id": "1dc4d278-8327-4f14-9724-770ed2f17f22",
   "metadata": {},
   "outputs": [
    {
     "name": "stderr",
     "output_type": "stream",
     "text": [
      "C:\\Users\\lisov\\Python39\\lib\\site-packages\\sklearn\\linear_model\\_ridge.py:211: LinAlgWarning: Ill-conditioned matrix (rcond=5.48984e-19): result may not be accurate.\n",
      "  return linalg.solve(A, Xy, assume_a=\"pos\", overwrite_a=True).T\n",
      "C:\\Users\\lisov\\Python39\\lib\\site-packages\\sklearn\\linear_model\\_ridge.py:211: LinAlgWarning: Ill-conditioned matrix (rcond=2.2633e-22): result may not be accurate.\n",
      "  return linalg.solve(A, Xy, assume_a=\"pos\", overwrite_a=True).T\n"
     ]
    },
    {
     "data": {
      "image/png": "[encoded data removed]",
      "text/plain": [
       "<Figure size 640x480 with 1 Axes>"
      ]
     },
     "metadata": {},
     "output_type": "display_data"
    }
   ],
   "source": [
    "import pandas as pd\n",
    "import numpy as np\n",
    "from matplotlib import pyplot as plt\n",
    "from numpy.linalg import norm\n",
    "from sklearn.model_selection import train_test_split\n",
    "from sklearn.metrics import mean_squared_error\n",
    "%matplotlib inline\n",
    "data = pd.read_csv('F:/DATA SCIENCE/[Skillbox] Профессия‌ ‌Data‌ ‌Scientist‌ (2020)/1 Data Scientist. ML. Начальный уровень/03/non_linear.csv')\n",
    "data.head()\n",
    "\n",
    "def generate_degrees(source_data: list, degree: int):\n",
    "\n",
    "    return np.array([\n",
    "        source_data**n for n in range(1, degree + 1)\n",
    "    ]).T\n",
    "\n",
    "from sklearn.linear_model import Ridge\n",
    "\n",
    "model_ridge = Ridge(alpha=0.01)\n",
    "\n",
    "model_linear = Ridge(alpha=0.0)\n",
    "degree = 10\n",
    "\n",
    "X = generate_degrees(data.x_train, degree)\n",
    "y = data.y_train.values\n",
    "#обучение моделей\n",
    "model_ridge.fit(X, y)\n",
    "model_linear.fit(X, y)\n",
    "x_linspace = np.linspace(data['x_train'].min(), data['x_train'].max(), num = 100)\n",
    "y_linspace_linear = model_linear.predict(generate_degrees(x_linspace, degree))\n",
    "y_linspace_ridge = model_ridge.predict(generate_degrees(x_linspace, degree))\n",
    "\n",
    "plt.plot(x_linspace, y_linspace_linear)\n",
    "plt.plot(x_linspace, y_linspace_ridge)\n",
    "plt.show()"
   ]
  },
  {
   "cell_type": "code",
   "execution_count": 31,
   "id": "50a3aec2-6a52-4d6b-abec-717c24111069",
   "metadata": {},
   "outputs": [
    {
     "name": "stdout",
     "output_type": "stream",
     "text": [
      "Норма вектора весов Ridge \t||w|| = 1.94\n",
      "Норма вектора весов Linear \t||w|| = 72.37\n"
     ]
    }
   ],
   "source": [
    "print(\"Норма вектора весов Ridge \\t||w|| = %.2f\" % (norm(model_ridge.coef_)))\n",
    "print(\"Норма вектора весов Linear \\t||w|| = %.2f\" % (norm(model_linear.coef_)))"
   ]
  },
  {
   "cell_type": "code",
   "execution_count": 32,
   "id": "0df9986e-950e-4832-aa57-f9bd31473e91",
   "metadata": {},
   "outputs": [
    {
     "name": "stdout",
     "output_type": "stream",
     "text": [
      "(40, 10) (10, 10)\n"
     ]
    }
   ],
   "source": [
    "X_train, X_valid, y_train, y_valid = train_test_split(X, y, test_size=0.2, random_state=23)\n",
    "\n",
    "print(X_train.shape, X_valid.shape)"
   ]
  },
  {
   "cell_type": "code",
   "execution_count": 33,
   "id": "1adf3171-3bcc-40c9-8eaa-f2b53861202f",
   "metadata": {},
   "outputs": [
    {
     "name": "stdout",
     "output_type": "stream",
     "text": [
      "alpha=0.10 Ошибка 0.09\n",
      "alpha=0.15 Ошибка 0.09\n",
      "alpha=0.35 Ошибка 0.08\n",
      "alpha=0.50 Ошибка 0.08\n",
      "alpha=0.80 Ошибка 0.08\n",
      "\n",
      "-------\n",
      "Лучшая модель alpha=0.80 с ошибкой RMSE=0.08013\n",
      "-------\n"
     ]
    },
    {
     "name": "stderr",
     "output_type": "stream",
     "text": [
      "C:\\Users\\lisov\\Python39\\lib\\site-packages\\sklearn\\linear_model\\_ridge.py:211: LinAlgWarning: Ill-conditioned matrix (rcond=5.87336e-18): result may not be accurate.\n",
      "  return linalg.solve(A, Xy, assume_a=\"pos\", overwrite_a=True).T\n",
      "C:\\Users\\lisov\\Python39\\lib\\site-packages\\sklearn\\linear_model\\_ridge.py:211: LinAlgWarning: Ill-conditioned matrix (rcond=8.5446e-18): result may not be accurate.\n",
      "  return linalg.solve(A, Xy, assume_a=\"pos\", overwrite_a=True).T\n",
      "C:\\Users\\lisov\\Python39\\lib\\site-packages\\sklearn\\linear_model\\_ridge.py:211: LinAlgWarning: Ill-conditioned matrix (rcond=2.01675e-17): result may not be accurate.\n",
      "  return linalg.solve(A, Xy, assume_a=\"pos\", overwrite_a=True).T\n",
      "C:\\Users\\lisov\\Python39\\lib\\site-packages\\sklearn\\linear_model\\_ridge.py:211: LinAlgWarning: Ill-conditioned matrix (rcond=2.83799e-17): result may not be accurate.\n",
      "  return linalg.solve(A, Xy, assume_a=\"pos\", overwrite_a=True).T\n",
      "C:\\Users\\lisov\\Python39\\lib\\site-packages\\sklearn\\linear_model\\_ridge.py:211: LinAlgWarning: Ill-conditioned matrix (rcond=4.45814e-17): result may not be accurate.\n",
      "  return linalg.solve(A, Xy, assume_a=\"pos\", overwrite_a=True).T\n"
     ]
    }
   ],
   "source": [
    "alphas = [0.1, 0.15, 0.35, 0.5, 0.8]\n",
    "\n",
    "best_alpha = alphas[0]\n",
    "best_rmse = np.infty\n",
    "\n",
    "for alpha in alphas:\n",
    "    model_ridge = Ridge(alpha=alpha)\n",
    "    model_ridge.fit(X_train, y_train)\n",
    "    y_pred = model_ridge.predict(X_valid)\n",
    "    error = mean_squared_error(y_valid, y_pred)\n",
    "    if error < best_rmse:\n",
    "        best_rmse = error\n",
    "        best_alpha = alpha\n",
    "    print(\"alpha=%.2f Ошибка %.2f\" % (alpha, error))\n",
    "print('\\n-------\\nЛучшая модель alpha=%.2f с ошибкой RMSE=%.5f\\n-------' % (best_alpha, best_rmse) )  \n",
    "    "
   ]
  },
  {
   "cell_type": "code",
   "execution_count": null,
   "id": "f8597259-4af3-424a-8428-e2b752b5eb77",
   "metadata": {},
   "outputs": [],
   "source": []
  }
 ],
 "metadata": {
  "kernelspec": {
   "display_name": "Python 3 (ipykernel)",
   "language": "python",
   "name": "python3"
  },
  "language_info": {
   "codemirror_mode": {
    "name": "ipython",
    "version": 3
   },
   "file_extension": ".py",
   "mimetype": "text/x-python",
   "name": "python",
   "nbconvert_exporter": "python",
   "pygments_lexer": "ipython3",
   "version": "3.9.10"
  }
 },
 "nbformat": 4,
 "nbformat_minor": 5
}
