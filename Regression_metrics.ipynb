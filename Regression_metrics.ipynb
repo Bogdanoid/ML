{
 "cells": [
  {
   "cell_type": "code",
   "execution_count": 1,
   "id": "1f6cbc4c-96f5-4a46-9a78-fb85dd474a50",
   "metadata": {},
   "outputs": [],
   "source": [
    " from sklearn.datasets import fetch_california_housing\n",
    "boston_dataset = fetch_california_housing()\n",
    "\n",
    "features = boston_dataset.data\n",
    "y = boston_dataset.target"
   ]
  },
  {
   "cell_type": "code",
   "execution_count": 16,
   "id": "33bc1817-a53d-424c-b912-4ed5429bcdf3",
   "metadata": {},
   "outputs": [],
   "source": [
    "from sklearn.linear_model import LinearRegression\n",
    "\n",
    "reg = LinearRegression().fit(features, y)\n"
   ]
  },
  {
   "cell_type": "code",
   "execution_count": 9,
   "id": "e556442c-25c5-4faa-bc81-1d0fd67c6e1d",
   "metadata": {},
   "outputs": [],
   "source": [
    "y_pred = reg.predict(features)  #предсказанное значение\n",
    "y_true = y #истинное значение"
   ]
  },
  {
   "cell_type": "code",
   "execution_count": 10,
   "id": "97433a7f-700d-47cc-b278-7b1f14b6c8d4",
   "metadata": {},
   "outputs": [
    {
     "name": "stdout",
     "output_type": "stream",
     "text": [
      "MAE = 0.5311643817546473\n"
     ]
    }
   ],
   "source": [
    "from sklearn.metrics import mean_absolute_error\n",
    "\n",
    "print(\"MAE = %s\" % mean_absolute_error(\n",
    "    reg.predict(features), y)\n",
    "     )\n"
   ]
  },
  {
   "cell_type": "code",
   "execution_count": 15,
   "id": "6af49e5b-9fe8-4200-a6b1-7efef02a9e3e",
   "metadata": {},
   "outputs": [
    {
     "name": "stdout",
     "output_type": "stream",
     "text": [
      "RMSE = 0.5243209861846072\n"
     ]
    }
   ],
   "source": [
    "from sklearn.metrics import mean_squared_error\n",
    "\n",
    "rmse = mean_squared_error(y_true, y_pred)\n",
    "print ('RMSE = %s' % rmse)"
   ]
  },
  {
   "cell_type": "code",
   "execution_count": 12,
   "id": "68166aa6-ac7f-49b1-a4af-1c83eeb1c0c0",
   "metadata": {},
   "outputs": [
    {
     "name": "stdout",
     "output_type": "stream",
     "text": [
      "r2_score = 0.606232685199805\n"
     ]
    }
   ],
   "source": [
    "from sklearn.metrics import r2_score\n",
    "print(\"r2_score = %s\" % r2_score(y_true, y_pred))"
   ]
  },
  {
   "cell_type": "code",
   "execution_count": null,
   "id": "797a99e2-1426-45b6-b68c-85cc67bccabf",
   "metadata": {},
   "outputs": [],
   "source": []
  }
 ],
 "metadata": {
  "kernelspec": {
   "display_name": "Python 3 (ipykernel)",
   "language": "python",
   "name": "python3"
  },
  "language_info": {
   "codemirror_mode": {
    "name": "ipython",
    "version": 3
   },
   "file_extension": ".py",
   "mimetype": "text/x-python",
   "name": "python",
   "nbconvert_exporter": "python",
   "pygments_lexer": "ipython3",
   "version": "3.9.10"
  }
 },
 "nbformat": 4,
 "nbformat_minor": 5
}
